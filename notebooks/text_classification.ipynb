{
  "cells": [
    {
      "cell_type": "markdown",
      "metadata": {
        "id": "view-in-github",
        "colab_type": "text"
      },
      "source": [
        "<a href=\"https://colab.research.google.com/github/davidandw190/faas-dl-inference/blob/main/notebooks/text_classification.ipynb\" target=\"_parent\"><img src=\"https://colab.research.google.com/assets/colab-badge.svg\" alt=\"Open In Colab\"/></a>"
      ]
    },
    {
      "cell_type": "markdown",
      "source": [
        "## Text Classification"
      ],
      "metadata": {
        "id": "rj4wr_9H0NJD"
      }
    },
    {
      "cell_type": "code",
      "execution_count": null,
      "metadata": {
        "id": "IvC_mAv2jmjR"
      },
      "outputs": [],
      "source": [
        "%pip install datasets transformers onnx onnxruntime tqdm"
      ]
    },
    {
      "cell_type": "code",
      "source": [
        "import torch\n",
        "from datasets import load_dataset\n",
        "from transformers import AutoTokenizer, AutoModelForSequenceClassification, Trainer, TrainingArguments\n",
        "import numpy as np\n",
        "from datasets import load_metric\n",
        "import transformers\n",
        "import transformers.convert_graph_to_onnx as onnx_convert\n",
        "from pathlib import Path\n",
        "from onnxruntime.quantization import quantize_dynamic, QuantType\n",
        "import onnxruntime as ort\n",
        "from tqdm.auto import tqdm"
      ],
      "metadata": {
        "id": "SK5r749Y0opg"
      },
      "execution_count": null,
      "outputs": []
    },
    {
      "cell_type": "code",
      "execution_count": null,
      "metadata": {
        "id": "aUWx2Qz4xbqa"
      },
      "outputs": [],
      "source": [
        "device = torch.device(\"cuda\" if torch.cuda.is_available() else \"cpu\")\n",
        "print(f\"Using device: {device}\")"
      ]
    },
    {
      "cell_type": "code",
      "execution_count": null,
      "metadata": {
        "id": "ntYBzbBEjsnJ"
      },
      "outputs": [],
      "source": [
        "dataset = load_dataset(\"ag_news\")"
      ]
    },
    {
      "cell_type": "code",
      "execution_count": null,
      "metadata": {
        "id": "N0rntdQDjtZC"
      },
      "outputs": [],
      "source": [
        "model_name = 'microsoft/xtremedistil-l6-h256-uncased'\n",
        "tokenizer = AutoTokenizer.from_pretrained(model_name)\n",
        "\n",
        "def tokenize_function(examples):\n",
        "    return tokenizer(examples[\"text\"], padding=\"max_length\", truncation=True, max_length=128)\n",
        "\n",
        "tokenized_datasets = dataset.map(tokenize_function, batched=True, num_proc=4)"
      ]
    },
    {
      "cell_type": "code",
      "execution_count": null,
      "metadata": {
        "id": "yA2DWhtrjy1Z"
      },
      "outputs": [],
      "source": [
        "train_dataset = tokenized_datasets[\"train\"]\n",
        "eval_dataset = tokenized_datasets[\"test\"]"
      ]
    },
    {
      "cell_type": "code",
      "execution_count": null,
      "metadata": {
        "id": "LYMkJfMQj0xK"
      },
      "outputs": [],
      "source": [
        "num_labels = 4\n",
        "model = AutoModelForSequenceClassification.from_pretrained(model_name, num_labels=num_labels)\n",
        "model = model.to(device)"
      ]
    },
    {
      "cell_type": "code",
      "execution_count": null,
      "metadata": {
        "id": "M6UEW6l4j43Q"
      },
      "outputs": [],
      "source": [
        "training_args = TrainingArguments(\n",
        "    \"text_classification\",\n",
        "    per_device_train_batch_size=64,\n",
        "    per_device_eval_batch_size=64,\n",
        "    num_train_epochs=3,\n",
        "    learning_rate=5e-5,\n",
        "    weight_decay=0.01,\n",
        "    evaluation_strategy=\"epoch\",\n",
        "    save_strategy=\"epoch\",\n",
        "    load_best_model_at_end=True,\n",
        "    push_to_hub=False,\n",
        "    use_cpu=False,\n",
        "    logging_steps=500,\n",
        "    report_to=\"none\"\n",
        ")"
      ]
    },
    {
      "cell_type": "code",
      "execution_count": null,
      "metadata": {
        "id": "VOeT9VsmkBsf"
      },
      "outputs": [],
      "source": [
        "metric = load_metric(\"accuracy\")\n",
        "\n",
        "def compute_metrics(eval_pred):\n",
        "    logits, labels = eval_pred\n",
        "    predictions = np.argmax(logits, axis=-1)\n",
        "    return metric.compute(predictions=predictions, references=labels)"
      ]
    },
    {
      "cell_type": "code",
      "execution_count": null,
      "metadata": {
        "id": "r1v839M3kGmc"
      },
      "outputs": [],
      "source": [
        "trainer = Trainer(\n",
        "    model=model,\n",
        "    args=training_args,\n",
        "    train_dataset=train_dataset,\n",
        "    eval_dataset=eval_dataset,\n",
        "    compute_metrics=compute_metrics,\n",
        ")\n",
        "\n",
        "trainer.train()"
      ]
    },
    {
      "cell_type": "code",
      "execution_count": null,
      "metadata": {
        "id": "chNm3pr_kudf"
      },
      "outputs": [],
      "source": [
        "evaluation_results = trainer.evaluate()\n",
        "print(f\"Evaluation results: {evaluation_results}\")"
      ]
    },
    {
      "cell_type": "code",
      "execution_count": null,
      "metadata": {
        "id": "Nd2l8E_HBYvn"
      },
      "outputs": [],
      "source": [
        "model = model.to(\"cpu\")\n",
        "\n",
        "pipeline = transformers.pipeline(\"text-classification\",\n",
        "                                 model=model,\n",
        "                                 tokenizer=tokenizer)\n",
        "\n",
        "onnx_convert.convert_pytorch(pipeline,\n",
        "                             opset=14,\n",
        "                             output=Path(\"text_classifier_edge.onnx\"),\n",
        "                             use_external_format=False)"
      ]
    },
    {
      "cell_type": "code",
      "execution_count": null,
      "metadata": {
        "id": "kbOfJor8kyZ0"
      },
      "outputs": [],
      "source": [
        "quantize_dynamic(\"text_classifier.onnx\", \"text_classifier_int8.onnx\", weight_type=QuantType.QUInt8)"
      ]
    },
    {
      "cell_type": "code",
      "execution_count": null,
      "metadata": {
        "id": "LaHgyFzZkzvP"
      },
      "outputs": [],
      "source": [
        "session = ort.InferenceSession(\"text_classifier.onnx\", providers=['CUDAExecutionProvider', 'CPUExecutionProvider'])\n",
        "session_int8 = ort.InferenceSession(\"text_classifier_int8.onnx\", providers=['CUDAExecutionProvider', 'CPUExecutionProvider'])"
      ]
    },
    {
      "cell_type": "code",
      "execution_count": null,
      "metadata": {
        "id": "TrYwL401B8eQ"
      },
      "outputs": [],
      "source": [
        "input_sample = eval_dataset.select(range(1000))\n",
        "input_feed = {\n",
        "    \"input_ids\": np.array(input_sample['input_ids']),\n",
        "    \"attention_mask\": np.array(input_sample['attention_mask']),\n",
        "    \"token_type_ids\": np.array(input_sample['token_type_ids'])\n",
        "}\n",
        "\n",
        "out = session.run(input_feed=input_feed, output_names=['output_0'])[0]\n",
        "out_int8 = session_int8.run(input_feed=input_feed, output_names=['output_0'])[0]"
      ]
    },
    {
      "cell_type": "code",
      "execution_count": null,
      "metadata": {
        "id": "HCQY8FxyB-FQ"
      },
      "outputs": [],
      "source": [
        "predictions = np.argmax(out, axis=-1)\n",
        "predictions_int8 = np.argmax(out_int8, axis=-1)"
      ]
    },
    {
      "cell_type": "code",
      "execution_count": null,
      "metadata": {
        "id": "_XO6-KI7B_8r"
      },
      "outputs": [],
      "source": [
        "onnx_accuracy = metric.compute(predictions=predictions, references=eval_dataset['label'])\n",
        "onnx_int8_accuracy = metric.compute(predictions=predictions_int8, references=eval_dataset['label'])"
      ]
    },
    {
      "cell_type": "code",
      "execution_count": null,
      "metadata": {
        "id": "A-zxi7EyCBHz"
      },
      "outputs": [],
      "source": [
        "print(f\"ONNX model accuracy: {onnx_accuracy}\")\n",
        "print(f\"ONNX INT8 model accuracy: {onnx_int8_accuracy}\")"
      ]
    },
    {
      "cell_type": "code",
      "execution_count": null,
      "metadata": {
        "id": "Ql-tyETUCDBc"
      },
      "outputs": [],
      "source": [
        "from google.colab import files\n",
        "\n",
        "files.download('text_classifier_int8.onnx')\n",
        "files.download('text_classifier.onnx')"
      ]
    }
  ],
  "metadata": {
    "accelerator": "GPU",
    "colab": {
      "gpuType": "T4",
      "provenance": [],
      "authorship_tag": "ABX9TyOBId0mcJ0RVFEs2KerqjrE",
      "include_colab_link": true
    },
    "kernelspec": {
      "display_name": "Python 3",
      "name": "python3"
    },
    "language_info": {
      "name": "python"
    }
  },
  "nbformat": 4,
  "nbformat_minor": 0
}