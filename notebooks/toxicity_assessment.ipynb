{
  "nbformat": 4,
  "nbformat_minor": 0,
  "metadata": {
    "colab": {
      "provenance": [],
      "authorship_tag": "ABX9TyMQj/ByZr78r5tlNhWAaBW8",
      "include_colab_link": true
    },
    "kernelspec": {
      "name": "python3",
      "display_name": "Python 3"
    },
    "language_info": {
      "name": "python"
    }
  },
  "cells": [
    {
      "cell_type": "markdown",
      "metadata": {
        "id": "view-in-github",
        "colab_type": "text"
      },
      "source": [
        "<a href=\"https://colab.research.google.com/github/davidandw190/faas-dl-inference/blob/main/notebooks/toxicity_assessment.ipynb\" target=\"_parent\"><img src=\"https://colab.research.google.com/assets/colab-badge.svg\" alt=\"Open In Colab\"/></a>"
      ]
    },
    {
      "cell_type": "code",
      "execution_count": null,
      "metadata": {
        "id": "UzSWETj-Zx5T"
      },
      "outputs": [],
      "source": [
        "%pip install datasets transformers onnx onnxruntime tqdm"
      ]
    },
    {
      "cell_type": "code",
      "source": [
        "import torch\n",
        "from datasets import load_dataset\n",
        "from transformers import AutoTokenizer, AutoModelForSequenceClassification, Trainer, TrainingArguments\n",
        "import numpy as np\n",
        "from datasets import load_metric\n",
        "import transformers\n",
        "import transformers.convert_graph_to_onnx as onnx_convert\n",
        "from pathlib import Path\n",
        "from onnxruntime.quantization import quantize_dynamic, QuantType\n",
        "import onnxruntime as ort\n",
        "from tqdm.auto import tqdm"
      ],
      "metadata": {
        "id": "5kCyflDjbRrv"
      },
      "execution_count": 2,
      "outputs": []
    },
    {
      "cell_type": "code",
      "source": [
        "device = torch.device(\"cuda\" if torch.cuda.is_available() else \"cpu\")\n",
        "print(f\"Using device: {device}\")"
      ],
      "metadata": {
        "id": "Z5zhHGUIbSPA"
      },
      "execution_count": null,
      "outputs": []
    },
    {
      "cell_type": "code",
      "source": [
        "dataset = load_dataset(\"civil_comments\")\n",
        "\n",
        "model_name = 'microsoft/xtremedistil-l6-h256-uncased'\n",
        "tokenizer = AutoTokenizer.from_pretrained(model_name)\n",
        "\n",
        "def tokenize_function(examples):\n",
        "    return tokenizer(examples[\"text\"], padding=\"max_length\", truncation=True, max_length=128)\n",
        "\n",
        "tokenized_datasets = dataset.map(tokenize_function, batched=True, num_proc=4)"
      ],
      "metadata": {
        "id": "QdMM-FcSbUtO"
      },
      "execution_count": null,
      "outputs": []
    },
    {
      "cell_type": "code",
      "source": [
        "def prepare_dataset(examples):\n",
        "    examples[\"label\"] = [1 if toxicity > 0.5 else 0 for toxicity in examples[\"toxicity\"]]\n",
        "    return examples\n",
        "\n",
        "prepared_datasets = tokenized_datasets.map(prepare_dataset, num_proc=4)"
      ],
      "metadata": {
        "id": "wW0hjVkvbfum"
      },
      "execution_count": null,
      "outputs": []
    },
    {
      "cell_type": "code",
      "source": [
        "model = AutoModelForSequenceClassification.from_pretrained(model_name, num_labels=2)\n",
        "model = model.to(device)"
      ],
      "metadata": {
        "id": "9aJJ52twboQ8"
      },
      "execution_count": null,
      "outputs": []
    },
    {
      "cell_type": "code",
      "source": [
        "metric = load_metric(\"accuracy\")\n",
        "\n",
        "def compute_metrics(eval_pred):\n",
        "    logits, labels = eval_pred\n",
        "    predictions = np.argmax(logits, axis=-1)\n",
        "    return metric.compute(predictions=predictions, references=labels)\n"
      ],
      "metadata": {
        "id": "ju4vVAwgbuMa"
      },
      "execution_count": null,
      "outputs": []
    },
    {
      "cell_type": "code",
      "source": [
        "train_dataset = prepared_datasets[\"train\"].shuffle(seed=42).select(range(100000))\n",
        "eval_dataset = prepared_datasets[\"test\"].shuffle(seed=42).select(range(10000))"
      ],
      "metadata": {
        "id": "LRCpAkz7bi0x"
      },
      "execution_count": null,
      "outputs": []
    },
    {
      "cell_type": "code",
      "source": [
        "training_args = TrainingArguments(\n",
        "    \"toxicity_classifier\",\n",
        "    per_device_train_batch_size=64,\n",
        "    per_device_eval_batch_size=64,\n",
        "    num_train_epochs=1,\n",
        "    learning_rate=5e-5,\n",
        "    weight_decay=0.01,\n",
        "    evaluation_strategy=\"epoch\",\n",
        "    save_strategy=\"epoch\",\n",
        "    load_best_model_at_end=True,\n",
        "    push_to_hub=False,\n",
        "    use_cpu=False\n",
        ")"
      ],
      "metadata": {
        "id": "jSZsxyUbbqQs"
      },
      "execution_count": null,
      "outputs": []
    },
    {
      "cell_type": "code",
      "source": [
        "\n",
        "trainer = Trainer(\n",
        "    model=model,\n",
        "    args=training_args,\n",
        "    train_dataset=train_dataset,\n",
        "    eval_dataset=eval_dataset,\n",
        "    compute_metrics=compute_metrics,\n",
        ")\n",
        "\n",
        "trainer.train()\n",
        "eval_results = trainer.evaluate()\n",
        "print(f\"Evaluation results: {eval_results}\")"
      ],
      "metadata": {
        "id": "b-TwsNE3cBuv"
      },
      "execution_count": null,
      "outputs": []
    },
    {
      "cell_type": "code",
      "source": [
        "model = model.to(\"cpu\")\n",
        "pipeline = transformers.pipeline(\"text-classification\", model=model, tokenizer=tokenizer)\n",
        "\n",
        "onnx_convert.convert_pytorch(pipeline,\n",
        "                             opset=14,\n",
        "                             output=Path(\"toxicity_classifier.onnx\"),\n",
        "                             use_external_format=False)\n",
        "\n",
        "quantize_dynamic(\"toxicity_classifier.onnx\",\n",
        "                 \"toxicity_classifier_int8.onnx\",\n",
        "                 weight_type=QuantType.QUInt8)"
      ],
      "metadata": {
        "id": "8eFs8SJOcNSV"
      },
      "execution_count": null,
      "outputs": []
    },
    {
      "cell_type": "code",
      "source": [
        "session = ort.InferenceSession(\"toxicity_classifier.onnx\", providers=['CPUExecutionProvider'])\n",
        "session_int8 = ort.InferenceSession(\"toxicity_classifier_int8.onnx\", providers=['CPUExecutionProvider'])"
      ],
      "metadata": {
        "id": "kF2wPbJycTrW"
      },
      "execution_count": null,
      "outputs": []
    },
    {
      "cell_type": "code",
      "source": [
        "input_sample = eval_dataset.select(range(1000))\n",
        "input_feed = {\n",
        "    \"input_ids\": np.array(input_sample['input_ids']),\n",
        "    \"attention_mask\": np.array(input_sample['attention_mask']),\n",
        "    \"token_type_ids\": np.array(input_sample['token_type_ids'])\n",
        "}"
      ],
      "metadata": {
        "id": "2AoMUBl5crlC"
      },
      "execution_count": null,
      "outputs": []
    },
    {
      "cell_type": "code",
      "source": [
        "out = session.run(input_feed=input_feed, output_names=['output_0'])[0]\n",
        "out_int8 = session_int8.run(input_feed=input_feed, output_names=['output_0'])[0]\n"
      ],
      "metadata": {
        "id": "UXzqEjtWcuhX"
      },
      "execution_count": null,
      "outputs": []
    },
    {
      "cell_type": "code",
      "source": [
        "predictions = np.argmax(out, axis=-1)\n",
        "predictions_int8 = np.argmax(out_int8, axis=-1)"
      ],
      "metadata": {
        "id": "ggl2mGwYcwCw"
      },
      "execution_count": null,
      "outputs": []
    },
    {
      "cell_type": "code",
      "source": [
        "onnx_accuracy = metric.compute(predictions=predictions, references=input_sample['label'])\n",
        "onnx_int8_accuracy = metric.compute(predictions=predictions_int8, references=input_sample['label'])\n",
        "\n",
        "print(f\"ONNX model accuracy: {onnx_accuracy}\")\n",
        "print(f\"ONNX INT8 model accuracy: {onnx_int8_accuracy}\")"
      ],
      "metadata": {
        "id": "4I4GY46Gcx6M"
      },
      "execution_count": null,
      "outputs": []
    },
    {
      "cell_type": "code",
      "source": [
        "from google.colab import files\n",
        "\n",
        "files.download('toxicity_classifier_int8.onnx')\n",
        "files.download('toxicity_classifier.onnx')"
      ],
      "metadata": {
        "id": "7D_6M_d3c2C6"
      },
      "execution_count": null,
      "outputs": []
    }
  ]
}