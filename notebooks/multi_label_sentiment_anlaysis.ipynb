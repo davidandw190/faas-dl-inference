{
  "nbformat": 4,
  "nbformat_minor": 0,
  "metadata": {
    "colab": {
      "provenance": [],
      "authorship_tag": "ABX9TyNkgkldBUS1MBpfAsRNeg0r",
      "include_colab_link": true
    },
    "kernelspec": {
      "name": "python3",
      "display_name": "Python 3"
    },
    "language_info": {
      "name": "python"
    }
  },
  "cells": [
    {
      "cell_type": "markdown",
      "metadata": {
        "id": "view-in-github",
        "colab_type": "text"
      },
      "source": [
        "<a href=\"https://colab.research.google.com/github/davidandw190/faas-dl-inference/blob/main/notebooks/multi_label_sentiment_anlaysis.ipynb\" target=\"_parent\"><img src=\"https://colab.research.google.com/assets/colab-badge.svg\" alt=\"Open In Colab\"/></a>"
      ]
    },
    {
      "cell_type": "markdown",
      "source": [
        "## Multi-Label Sentiment Analysis\n",
        "\n",
        "This is an improved version of the sentiment analysis model prototype, some of the modifications being:\n",
        " - it uses the `go_emotions` dataset with 28 emotions,instead of the `emotion` dataset used previously, with only 6 emotions.\n",
        " - it uses `microsoft/xtremedistil-l6-h384-uncased` (384 hidden layers) instead of `microsoft/xtremedistil-l6-h256-uncased` (256 hidden layers)\n",
        " - shift to multi-label classification (multiple emotions per text so more realistic) from the prior, single-label classification\n",
        "\n",
        "\n",
        "*dataset adjustements were inspired by: https://colab.research.google.com/drive/1aue7x525rKy6yYLqqt-5Ll96qjQvpqS7#scrollTo=Dcw8-k4lO5Yk"
      ],
      "metadata": {
        "id": "sCGUBkVdhabU"
      }
    },
    {
      "cell_type": "code",
      "execution_count": null,
      "metadata": {
        "id": "c155QxIabZLk"
      },
      "outputs": [],
      "source": [
        "%pip install datasets transformers onnx onnxruntime"
      ]
    },
    {
      "cell_type": "code",
      "source": [
        "import torch\n",
        "from datasets import load_dataset\n",
        "from transformers import AutoTokenizer, AutoModelForSequenceClassification, TrainingArguments, Trainer\n",
        "import transformers\n",
        "import transformers.convert_graph_to_onnx as onnx_convert\n",
        "from pathlib import Path\n",
        "from onnxruntime.quantization import quantize_dynamic, QuantType\n",
        "from google.colab import files"
      ],
      "metadata": {
        "id": "ipwHOhhNeVki"
      },
      "execution_count": null,
      "outputs": []
    },
    {
      "cell_type": "code",
      "source": [
        "device = \"cuda:0\" if torch.cuda.is_available() else \"cpu\"\n",
        "print(f\"Using device: {device}\")"
      ],
      "metadata": {
        "id": "THKytyBWeXjX"
      },
      "execution_count": null,
      "outputs": []
    },
    {
      "cell_type": "code",
      "source": [
        "model_name = 'microsoft/xtremedistil-l6-h384-uncased'\n",
        "emotions = [\n",
        "    'admiration', 'amusement', 'anger', 'annoyance', 'approval', 'caring',\n",
        "    'confusion', 'curiosity', 'desire', 'disappointment', 'disapproval',\n",
        "    'disgust', 'embarrassment', 'excitement', 'fear', 'gratitude', 'grief',\n",
        "    'joy', 'love', 'nervousness', 'optimism', 'pride', 'realization',\n",
        "    'relief', 'remorse', 'sadness', 'surprise', 'neutral'\n",
        "]"
      ],
      "metadata": {
        "id": "QFYc1hHWcUzD"
      },
      "execution_count": null,
      "outputs": []
    },
    {
      "cell_type": "code",
      "source": [
        "tokenizer = AutoTokenizer.from_pretrained(model_name)\n",
        "ds = load_dataset(\"go_emotions\", \"raw\")\n",
        "\n",
        "def tokenize_function(examples):\n",
        "    return tokenizer(examples[\"text\"], padding=\"max_length\", truncation=True, max_length=64)"
      ],
      "metadata": {
        "id": "n0KMNy8Wekn0"
      },
      "execution_count": null,
      "outputs": []
    },
    {
      "cell_type": "code",
      "source": [
        "def prepare_dataset(dataset):\n",
        "    dataset = dataset.map(lambda x: {\"labels\": [x[c] for c in emotions]})\n",
        "\n",
        "    cols = dataset[\"train\"].column_names\n",
        "    cols.remove(\"labels\")\n",
        "    dataset = dataset.map(tokenize_function, batched=True, remove_columns=cols)\n",
        "    dataset.set_format(\"torch\")\n",
        "    dataset = (dataset\n",
        "               .map(lambda x: {\"float_labels\": x[\"labels\"].to(torch.float)}, remove_columns=[\"labels\"])\n",
        "               .rename_column(\"float_labels\", \"labels\"))\n",
        "    return dataset"
      ],
      "metadata": {
        "id": "0lOfEJYlem7n"
      },
      "execution_count": null,
      "outputs": []
    },
    {
      "cell_type": "code",
      "source": [
        "ds_enc = prepare_dataset(ds)\n",
        "print(ds_enc['train'].features)"
      ],
      "metadata": {
        "id": "7McXBCiqexzQ"
      },
      "execution_count": null,
      "outputs": []
    },
    {
      "cell_type": "code",
      "source": [
        "model = AutoModelForSequenceClassification.from_pretrained(\n",
        "    model_name,\n",
        "    num_labels=len(emotions),\n",
        "    problem_type=\"multi_label_classification\"\n",
        ").to(device)"
      ],
      "metadata": {
        "id": "Ya71f897ezgn"
      },
      "execution_count": null,
      "outputs": []
    },
    {
      "cell_type": "code",
      "source": [
        "training_args = TrainingArguments(\n",
        "    \"improved_sentiment_classifier\",\n",
        "    per_device_train_batch_size=128,\n",
        "    num_train_epochs=4,\n",
        "    learning_rate=3e-05,\n",
        "    evaluation_strategy=\"no\"\n",
        ")\n",
        "\n",
        "trainer = Trainer(\n",
        "    model=model,\n",
        "    args=training_args,\n",
        "    train_dataset=ds_enc['train']\n",
        ")\n",
        "\n",
        "trainer.train()"
      ],
      "metadata": {
        "id": "mx5WwJyge4kD"
      },
      "execution_count": null,
      "outputs": []
    },
    {
      "cell_type": "code",
      "source": [
        "model_path = \"improved_sentiment_classifier\"\n",
        "model.save_pretrained(model_path)\n",
        "tokenizer.save_pretrained(model_path)"
      ],
      "metadata": {
        "id": "DGsH9ugee2kj"
      },
      "execution_count": null,
      "outputs": []
    },
    {
      "cell_type": "code",
      "source": [
        "pipeline = transformers.pipeline(\"imroved_sentiment_classifier\", model=model_path, tokenizer=model_path)\n",
        "onnx_convert.convert_pytorch(\n",
        "    pipeline,\n",
        "    opset=14,\n",
        "    output=Path(\"improved_sentiment_classifier.onnx\"),\n",
        "    use_external_format=False\n",
        ")"
      ],
      "metadata": {
        "id": "lHA4297LfBT4"
      },
      "execution_count": null,
      "outputs": []
    },
    {
      "cell_type": "code",
      "source": [
        "quantize_dynamic(\n",
        "    \"improved_sentiment_classifier.onnx\",\n",
        "    \"improved_sentiment_classifier-int8.onnx\",\n",
        "    weight_type=QuantType.QUInt8\n",
        ")"
      ],
      "metadata": {
        "id": "yLlhKrjtfSM-"
      },
      "execution_count": null,
      "outputs": []
    },
    {
      "cell_type": "code",
      "source": [
        "files.download(\"improved_sentiment_classifier-int8.onnx\")"
      ],
      "metadata": {
        "id": "cINPmeirfUM9"
      },
      "execution_count": null,
      "outputs": []
    }
  ]
}